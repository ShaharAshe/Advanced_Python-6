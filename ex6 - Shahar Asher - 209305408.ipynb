{
 "cells": [
  {
   "cell_type": "markdown",
   "metadata": {},
   "source": [
    "# <span style=\"color:red\">**exercise 6**</span>\n",
    "---"
   ]
  },
  {
   "cell_type": "markdown",
   "metadata": {},
   "source": [
    "### submited by:\n",
    "- Name: Shahar Asher\n",
    "- Id: 209305408\n",
    "- Email adress: shaharas@edu.hac.ac.il\n",
    "- Date: 24/05/2024\n",
    "\n",
    "### Operation system: Windows 11\n",
    "### Python version: 3.10.8\n",
    "### IDE: Visual Studio Code\n",
    "### libraries: ctypes, numpy\n",
    "### internal modules: fib\n",
    "---"
   ]
  },
  {
   "cell_type": "code",
   "execution_count": 9,
   "metadata": {},
   "outputs": [],
   "source": [
    "# imports\n",
    "import ctypes\n",
    "import numpy as np\n",
    "\n",
    "# Usage of the Cython module\n",
    "import fib"
   ]
  },
  {
   "cell_type": "markdown",
   "metadata": {},
   "source": [
    "# Q.1\n"
   ]
  },
  {
   "cell_type": "code",
   "execution_count": 10,
   "metadata": {},
   "outputs": [
    {
     "name": "stdout",
     "output_type": "stream",
     "text": [
      "Using Cython module\n",
      "55\n",
      "[ 0  1  1  2  3  5  8 13 21 34]\n",
      "\n",
      "Using the C library with ctypes\n",
      "55\n",
      "[ 0  1  1  2  3  5  8 13 21 34]\n"
     ]
    }
   ],
   "source": [
    "# Using Cython module\n",
    "print(\"Using Cython module\")\n",
    "print(fib.fib1(0, 1, 10))\n",
    "print(np.asarray(fib.fib2(0, 1, 10)))\n",
    "\n",
    "# Using the C library with ctypes\n",
    "print(\"\\nUsing the C library with ctypes\")\n",
    "lib:ctypes.CDLL = ctypes.CDLL('./fib_c.dll')\n",
    "\n",
    "lib.fib1.argtypes = [ctypes.c_int, ctypes.c_int, ctypes.c_int]\n",
    "lib.fib1.restype = ctypes.c_int\n",
    "\n",
    "lib.fib2.argtypes = [ctypes.c_int, ctypes.c_int, ctypes.c_int, ctypes.POINTER(ctypes.c_int)]\n",
    "lib.fib2.restype = None\n",
    "\n",
    "print(lib.fib1(0, 1, 10))\n",
    "\n",
    "count:int = 10\n",
    "arr:np.ndarray = np.zeros(count, dtype=np.int32)\n",
    "lib.fib2(0, 1, count, arr.ctypes.data_as(ctypes.POINTER(ctypes.c_int)))\n",
    "print(arr)"
   ]
  }
 ],
 "metadata": {
  "kernelspec": {
   "display_name": "base",
   "language": "python",
   "name": "python3"
  },
  "language_info": {
   "codemirror_mode": {
    "name": "ipython",
    "version": 3
   },
   "file_extension": ".py",
   "mimetype": "text/x-python",
   "name": "python",
   "nbconvert_exporter": "python",
   "pygments_lexer": "ipython3",
   "version": "3.10.8"
  }
 },
 "nbformat": 4,
 "nbformat_minor": 2
}
