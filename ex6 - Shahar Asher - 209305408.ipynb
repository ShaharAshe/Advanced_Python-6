{
 "cells": [
  {
   "cell_type": "markdown",
   "metadata": {},
   "source": [
    "# <span style=\"color:red\">**exercise 6**</span>\n",
    "---"
   ]
  },
  {
   "cell_type": "markdown",
   "metadata": {},
   "source": [
    "### submited by:\n",
    "- Name: Shahar Asher\n",
    "- Id: 209305408\n",
    "- Email adress: shaharas@edu.hac.ac.il\n",
    "- Date: 24/05/2024\n",
    "\n",
    "### Operation system: Windows 11\n",
    "### Python version: 3.11.5 (Using anaconda)\n",
    "### IDE: Visual Studio Code\n",
    "### libraries: \n",
    "---"
   ]
  },
  {
   "cell_type": "code",
   "execution_count": 13,
   "metadata": {},
   "outputs": [],
   "source": [
    "# imports\n"
   ]
  },
  {
   "cell_type": "markdown",
   "metadata": {},
   "source": [
    "# Q.1\n"
   ]
  },
  {
   "cell_type": "code",
   "execution_count": 14,
   "metadata": {},
   "outputs": [
    {
     "ename": "ModuleNotFoundError",
     "evalue": "No module named 'fib'",
     "output_type": "error",
     "traceback": [
      "\u001b[1;31m---------------------------------------------------------------------------\u001b[0m",
      "\u001b[1;31mModuleNotFoundError\u001b[0m                       Traceback (most recent call last)",
      "Cell \u001b[1;32mIn[14], line 5\u001b[0m\n\u001b[0;32m      3\u001b[0m sys\u001b[38;5;241m.\u001b[39mpath\u001b[38;5;241m.\u001b[39mappend(os\u001b[38;5;241m.\u001b[39mgetcwd())\n\u001b[0;32m      4\u001b[0m \u001b[38;5;66;03m# Usage of the Cython module\u001b[39;00m\n\u001b[1;32m----> 5\u001b[0m \u001b[38;5;28;01mimport\u001b[39;00m \u001b[38;5;21;01mfib\u001b[39;00m\u001b[38;5;21;01m.\u001b[39;00m\u001b[38;5;21;01mc\u001b[39;00m\n\u001b[0;32m      6\u001b[0m \u001b[38;5;28;01mimport\u001b[39;00m \u001b[38;5;21;01mctypes\u001b[39;00m\n\u001b[0;32m      7\u001b[0m \u001b[38;5;28;01mimport\u001b[39;00m \u001b[38;5;21;01mnumpy\u001b[39;00m \u001b[38;5;28;01mas\u001b[39;00m \u001b[38;5;21;01mnp\u001b[39;00m\n",
      "\u001b[1;31mModuleNotFoundError\u001b[0m: No module named 'fib'"
     ]
    }
   ],
   "source": [
    "import sys\n",
    "import os\n",
    "sys.path.append(os.getcwd())\n",
    "# Usage of the Cython module\n",
    "import fib\n",
    "import ctypes\n",
    "import numpy as np\n",
    "import os\n",
    "\n",
    "# Using Cython module\n",
    "print(\"Using Cython module\")\n",
    "print(fib.fib1(0, 1, 10))\n",
    "print(np.asarray(fib.fib2(0, 1, 10)))\n",
    "\n",
    "# Using the C library with ctypes\n",
    "print(\"\\nUsing the C library with ctypes\")\n",
    "lib = ctypes.CDLL('./fib_c.dll')\n",
    "\n",
    "lib.fib1.argtypes = [ctypes.c_int, ctypes.c_int, ctypes.c_int]\n",
    "lib.fib1.restype = ctypes.c_int\n",
    "\n",
    "lib.fib2.argtypes = [ctypes.c_int, ctypes.c_int, ctypes.c_int, ctypes.POINTER(ctypes.c_int)]\n",
    "lib.fib2.restype = None\n",
    "\n",
    "print(lib.fib1(0, 1, 10))\n",
    "\n",
    "count = 10\n",
    "arr = np.zeros(count, dtype=np.int32)\n",
    "lib.fib2(0, 1, count, arr.ctypes.data_as(ctypes.POINTER(ctypes.c_int)))\n",
    "print(arr)\n"
   ]
  }
 ],
 "metadata": {
  "kernelspec": {
   "display_name": "base",
   "language": "python",
   "name": "python3"
  },
  "language_info": {
   "codemirror_mode": {
    "name": "ipython",
    "version": 3
   },
   "file_extension": ".py",
   "mimetype": "text/x-python",
   "name": "python",
   "nbconvert_exporter": "python",
   "pygments_lexer": "ipython3",
   "version": "3.11.5"
  }
 },
 "nbformat": 4,
 "nbformat_minor": 2
}
