{
 "cells": [
  {
   "cell_type": "markdown",
   "metadata": {},
   "source": [
    "# <span style=\"color:red\">**exercise 6**</span>\n",
    "---"
   ]
  },
  {
   "cell_type": "markdown",
   "metadata": {},
   "source": [
    "### submited by:\n",
    "- Name: Shahar Asher\n",
    "- Id: 209305408\n",
    "- Email adress: shaharas@edu.hac.ac.il\n",
    "- Date: 24/05/2024\n",
    "\n",
    "### Operation system: Windows 11\n",
    "### Python version: 3.10.8\n",
    "### IDE: Visual Studio Code\n",
    "### libraries: ctypes, numpy\n",
    "### internal modules: fib\n",
    "---"
   ]
  },
  {
   "cell_type": "markdown",
   "metadata": {},
   "source": [
    "## Objective\n",
    "\n",
    "The goal of this exercise is to implement the Fibonacci series in two different ways:\n",
    "1. **As a Cython module** that will be imported by a Python script.\n",
    "2. **As a C library** compiled into a DLL, with functions called using the `ctypes` module in Python.\n",
    "\n",
    "In both implementations, the following functions will be provided:\n",
    "\n",
    "1. A function to return the nth element of the Fibonacci series.\n",
    "2. A function to return an array containing the first n elements of the Fibonacci series.\n",
    "\n",
    "## Fibonacci Series\n",
    "Given two initial numbers \\(a_0\\) and \\(a_1\\), the nth element of the Fibonacci series is given by:\n",
    "\n",
    "\n",
    "\\[a_n = a_{n-2} + a_{n-1}\\]\n",
    "\n",
    "\n",
    "For example, starting with \\(a_0 = 0\\) and \\(a_1 = 1\\), the series would be:\n",
    "\n",
    "\n",
    "\\[0, 1, 1, 2, 3, 5, 8, 13, 21, \\ldots\\]\n",
    "\n",
    "## Required Functions\n",
    "1. **fib1(a0: int, a1: int, n: int) -> int**\n",
    "- This function returns the nth element of the Fibonacci series.\n",
    "2. **fib2(a0: int, a1: int, count: int) -> int[:]**\n",
    "- This function returns an array containing the first n elements of the Fibonacci series.\n",
    "\n",
    "## Implementation Details\n",
    "The implementation involves:\n",
    "1. **Cython Implementation:**\n",
    "- Creating a `.pyx` file that defines the `fib1` and `fib2` functions.\n",
    "- Compiling this file into a Python extension module (`.pyd` or `.so`).\n",
    "2. **C Implementation:**\n",
    "- Writing a C file that defines the `fib1` and `fib2` functions.\n",
    "- Compiling this file into a shared library (`.dll` or `.so`).\n",
    "\n",
    "The notebook demonstrates how to import and use these modules and libraries."
   ]
  },
  {
   "cell_type": "code",
   "execution_count": 1,
   "metadata": {},
   "outputs": [],
   "source": [
    "# imports\n",
    "import ctypes\n",
    "import numpy as np\n",
    "\n",
    "# Usage of the Cython module\n",
    "import fib"
   ]
  },
  {
   "cell_type": "markdown",
   "metadata": {},
   "source": [
    "---\n",
    "## Using Cython module\n",
    "- In this section, we use the functions defined in the Cython module to compute the Fibonacci series.\n",
    "---"
   ]
  },
  {
   "cell_type": "code",
   "execution_count": 2,
   "metadata": {},
   "outputs": [
    {
     "name": "stdout",
     "output_type": "stream",
     "text": [
      "Using Cython module\n",
      "55\n",
      "[ 0  1  1  2  3  5  8 13 21 34]\n"
     ]
    }
   ],
   "source": [
    "print(\"Using Cython module\")\n",
    "# Call fib1 from the fib module to get the 10th Fibonacci number and print it\n",
    "print(fib.fib1(0, 1, 10))\n",
    "# Call fib2 from the fib module to get the first 10 Fibonacci numbers and print them as a numpy array\n",
    "print(np.asarray(fib.fib2(0, 1, 10)))"
   ]
  },
  {
   "cell_type": "markdown",
   "metadata": {},
   "source": [
    "---\n",
    "## Using the C Library with `ctypes`\n",
    "- In this section, we demonstrate how to use the `ctypes` library to load and interact with a compiled C library. This library provides similar functionality to the Cython module.\n",
    "---"
   ]
  },
  {
   "cell_type": "code",
   "execution_count": 3,
   "metadata": {},
   "outputs": [
    {
     "name": "stdout",
     "output_type": "stream",
     "text": [
      "\n",
      "Using the C library with ctypes\n",
      "55\n",
      "[ 0  1  1  2  3  5  8 13 21 34]\n"
     ]
    }
   ],
   "source": [
    "print(\"\\nUsing the C library with ctypes\")\n",
    "\n",
    "# Load the shared library 'fib_c.dll' using ctypes\n",
    "lib:ctypes.CDLL = ctypes.CDLL('./fib_c.dll')\n",
    "\n",
    "# Set the argument and return types for the fib1 function in the C library\n",
    "lib.fib1.argtypes = [ctypes.c_int, ctypes.c_int, ctypes.c_int]\n",
    "lib.fib1.restype = ctypes.c_int\n",
    "\n",
    "# Set the argument and return types for the fib2 function in the C library\n",
    "lib.fib2.argtypes = [ctypes.c_int, ctypes.c_int, ctypes.c_int, ctypes.POINTER(ctypes.c_int)]\n",
    "lib.fib2.restype = None\n",
    "\n",
    "# Call fib1 from the C library to get the 10th Fibonacci number and print it\n",
    "print(lib.fib1(0, 1, 10))\n",
    "\n",
    "# Define the count of Fibonacci numbers to generate\n",
    "count:int = 10\n",
    "\n",
    "# Create a numpy array to store the Fibonacci numbers\n",
    "arr:np.ndarray = np.zeros(count, dtype=np.int32)\n",
    "\n",
    "# Call fib2 from the C library to fill the numpy array with the first 10 Fibonacci numbers\n",
    "lib.fib2(0, 1, count, arr.ctypes.data_as(ctypes.POINTER(ctypes.c_int)))\n",
    "\n",
    "# Print the array of Fibonacci numbers\n",
    "print(arr)"
   ]
  }
 ],
 "metadata": {
  "kernelspec": {
   "display_name": "base",
   "language": "python",
   "name": "python3"
  },
  "language_info": {
   "codemirror_mode": {
    "name": "ipython",
    "version": 3
   },
   "file_extension": ".py",
   "mimetype": "text/x-python",
   "name": "python",
   "nbconvert_exporter": "python",
   "pygments_lexer": "ipython3",
   "version": "3.10.8"
  }
 },
 "nbformat": 4,
 "nbformat_minor": 2
}
